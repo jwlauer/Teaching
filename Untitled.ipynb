{
 "cells": [
  {
   "cell_type": "code",
   "execution_count": 7,
   "id": "b60e10aa",
   "metadata": {},
   "outputs": [],
   "source": [
    "import pandas as pd\n",
    "from icalendar import Calendar, Event\n",
    "\n",
    "def excel_to_ics(file_path):\n",
    "    df = pd.read_excel(file_path)\n",
    "    cal = Calendar()\n",
    "    for index, row in df.iterrows():\n",
    "        event = Event()\n",
    "        event.add('summary', row['event name'])\n",
    "        event.add('dtstart', row['event start time'])\n",
    "        event.add('dtend', row['event end time'])\n",
    "        cal.add_component(event)\n",
    "    return cal.to_ical()\n",
    "\n",
    "# Example usage\n",
    "ics_data = excel_to_ics('Test.xlsx')\n",
    "with open('output.ics', 'wb') as f:\n",
    "    f.write(ics_data)"
   ]
  },
  {
   "cell_type": "code",
   "execution_count": null,
   "id": "a9f8ab47",
   "metadata": {},
   "outputs": [],
   "source": []
  }
 ],
 "metadata": {
  "kernelspec": {
   "display_name": "Python 3 (ipykernel)",
   "language": "python",
   "name": "python3"
  },
  "language_info": {
   "codemirror_mode": {
    "name": "ipython",
    "version": 3
   },
   "file_extension": ".py",
   "mimetype": "text/x-python",
   "name": "python",
   "nbconvert_exporter": "python",
   "pygments_lexer": "ipython3",
   "version": "3.9.7"
  }
 },
 "nbformat": 4,
 "nbformat_minor": 5
}
